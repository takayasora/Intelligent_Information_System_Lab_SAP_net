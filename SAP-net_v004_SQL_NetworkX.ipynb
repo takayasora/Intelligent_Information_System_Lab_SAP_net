{
 "cells": [
  {
   "cell_type": "markdown",
   "metadata": {},
   "source": [
    "ネットワーク図の値を保持する必要があるため、SQLiteを介しての値を保持・出力・更新などのテストを行う\n",
    "今回のプログラムでは、値の取得を行い、実際にNetworkXを用いて可視化を行っている。\n",
    "このプログラムが完成すれば、SQLでデータを保存し、それらを取得、可視化までが完成していることを表す。\n",
    "\n",
    "また、NetworkXでの可視化プログラムは、配列の入力からデータフレームの入力に変更している。"
   ]
  },
  {
   "cell_type": "code",
   "execution_count": 1,
   "metadata": {},
   "outputs": [],
   "source": [
    "import sqlite3\n",
    "import pandas as pd\n",
    "import networkx as nx\n",
    "import matplotlib.pyplot as plt"
   ]
  },
  {
   "cell_type": "code",
   "execution_count": 9,
   "metadata": {},
   "outputs": [],
   "source": [
    "def NetworkX(df):\n",
    "    G = nx.DiGraph()\n",
    "\n",
    "    # ノードを追加\n",
    "    nodes = df.columns\n",
    "    for node in nodes:\n",
    "        G.add_node(node)\n",
    "\n",
    "    # エッジを追加\n",
    "    for i in range(len(nodes)):\n",
    "        for j in range(len(nodes)):\n",
    "            if df.iloc[i, j] == 1:\n",
    "                G.add_edge(nodes[i], nodes[j])\n",
    "\n",
    "    # ネットワーク図を描画\n",
    "    pos = nx.spring_layout(G)  # レイアウトを設定\n",
    "    nx.draw(G, pos, with_labels=True, node_size=500, node_color='skyblue', font_size=10, font_color='black', arrowsize=20)\n",
    "    plt.title(\"Network Graph\")\n",
    "    plt.show()\n",
    "\n",
    "\n",
    "def SQL_SetUp(database_path):\n",
    "    conn = sqlite3.connect(database_path)\n",
    "    cursor = conn.cursor()\n",
    "\n",
    "    # データベースファイルが存在する場合は処理を終了\n",
    "    cursor.execute(\"SELECT name FROM sqlite_master WHERE type='table'\")\n",
    "    existing_tables = cursor.fetchall()\n",
    "    if existing_tables:\n",
    "        print(\"Database already exists. Exiting setup.\")\n",
    "        conn.close()\n",
    "        return\n",
    "\n",
    "    # テーブルを作成\n",
    "    cursor.execute('''\n",
    "        CREATE TABLE knowledge (\n",
    "            id INTEGER PRIMARY KEY AUTOINCREMENT,\n",
    "            data TEXT,\n",
    "            Adata INTEGER,\n",
    "            Bdata INTEGER,\n",
    "            Cdata INTEGER,\n",
    "            Ddata INTEGER,\n",
    "            Edata INTEGER,\n",
    "            Fdata INTEGER\n",
    "        )\n",
    "    ''')\n",
    "\n",
    "    # 配列の定義   \n",
    "    data = [[\"Adata\",0, 1, 1, 0, 0, 0],\n",
    "            [\"Bdata\",1, 0, 1, 1, 1, 0],\n",
    "            [\"Cdata\",1, 1, 0, 0, 0, 1],\n",
    "            [\"Ddata\",0, 1, 0, 0, 0, 0],\n",
    "            [\"Edata\",0, 1, 0, 0, 0, 0],\n",
    "            [\"Fdata\",0, 0, 1, 0, 0, 0]]\n",
    "    \n",
    "    # データを挿入\n",
    "    cursor.executemany(\"INSERT INTO knowledge (data, Adata, Bdata, Cdata, Ddata, Edata, Fdata) VALUES (?, ?, ?, ?, ?, ?, ?)\", data)\n",
    "\n",
    "    conn.commit()\n",
    "    conn.close()\n",
    "\n",
    "\n",
    "def SQL_GetData(database_path):\n",
    "    conn = sqlite3.connect(database_path)\n",
    "    cursor = conn.cursor()\n",
    "\n",
    "    # データを取得してDataFrameに格納\n",
    "    cursor.execute(\"SELECT * FROM knowledge\")\n",
    "    rows = cursor.fetchall()\n",
    "    columns = [description[0] for description in cursor.description]\n",
    "    df = pd.DataFrame(rows, columns=columns)\n",
    "\n",
    "    conn.close()\n",
    "\n",
    "    return df\n"
   ]
  },
  {
   "cell_type": "code",
   "execution_count": 3,
   "metadata": {},
   "outputs": [
    {
     "name": "stdout",
     "output_type": "stream",
     "text": [
      "   id   data  Adata  Bdata  Cdata  Ddata  Edata  Fdata\n",
      "0   1  Adata      0      1      1      0      0      0\n",
      "1   2  Bdata      1      0      1      1      1      0\n",
      "2   3  Cdata      1      1      0      0      0      1\n",
      "3   4  Ddata      0      1      0      0      0      0\n",
      "4   5  Edata      0      1      0      0      0      0\n",
      "5   6  Fdata      0      0      1      0      0      0\n"
     ]
    }
   ],
   "source": [
    "# データの取得と表示\n",
    "df = SQL_GetData(\"database.sqlite\")\n",
    "print(df)"
   ]
  },
  {
   "cell_type": "code",
   "execution_count": 4,
   "metadata": {},
   "outputs": [
    {
     "name": "stdout",
     "output_type": "stream",
     "text": [
      "       Adata  Bdata  Cdata  Ddata  Edata  Fdata\n",
      "data                                           \n",
      "Adata      0      1      1      0      0      0\n",
      "Bdata      1      0      1      1      1      0\n",
      "Cdata      1      1      0      0      0      1\n",
      "Ddata      0      1      0      0      0      0\n",
      "Edata      0      1      0      0      0      0\n",
      "Fdata      0      0      1      0      0      0\n"
     ]
    }
   ],
   "source": [
    "# \"data\"列をデータフレームのインデックスに設定\n",
    "df.set_index(\"data\", inplace=True)\n",
    "\n",
    "# 不要な\"id\"列を削除\n",
    "df.drop(\"id\", axis=1, inplace=True)\n",
    "\n",
    "# データフレームの表示\n",
    "print(df)\n"
   ]
  },
  {
   "cell_type": "code",
   "execution_count": 5,
   "metadata": {},
   "outputs": [
    {
     "name": "stdout",
     "output_type": "stream",
     "text": [
      "1\n"
     ]
    }
   ],
   "source": [
    "# \"Adata\"列と\"Bdata\"行のセルの値を取得\n",
    "value = df.at[\"Bdata\", \"Adata\"]\n",
    "print(value)\n"
   ]
  },
  {
   "cell_type": "code",
   "execution_count": 6,
   "metadata": {},
   "outputs": [
    {
     "name": "stdout",
     "output_type": "stream",
     "text": [
      "C列の値は下記の通りである。\n",
      " data\n",
      "Adata    1\n",
      "Bdata    1\n",
      "Cdata    0\n",
      "Ddata    0\n",
      "Edata    0\n",
      "Fdata    1\n",
      "Name: Cdata, dtype: int64\n",
      "\n",
      "B行のデータは下記の通りである。\n",
      " Adata    1\n",
      "Bdata    0\n",
      "Cdata    1\n",
      "Ddata    1\n",
      "Edata    1\n",
      "Fdata    0\n",
      "Name: Bdata, dtype: int64\n"
     ]
    }
   ],
   "source": [
    "# \"Cdata\"列のデータを取得\n",
    "column_data = df[\"Cdata\"]\n",
    "print(\"C列の値は下記の通りである。\\n\",column_data)\n",
    "\n",
    "# \"Bdata\"行のデータを取得\n",
    "row_data = df.loc[\"Bdata\"]\n",
    "print(\"\\nB行のデータは下記の通りである。\\n\",row_data)"
   ]
  },
  {
   "cell_type": "code",
   "execution_count": 10,
   "metadata": {},
   "outputs": [
    {
     "data": {
      "image/png": "[encoded data removed]",
      "text/plain": [
       "<Figure size 640x480 with 1 Axes>"
      ]
     },
     "metadata": {},
     "output_type": "display_data"
    }
   ],
   "source": [
    "NetworkX(df)"
   ]
  }
 ],
 "metadata": {
  "kernelspec": {
   "display_name": "Python 3",
   "language": "python",
   "name": "python3"
  },
  "language_info": {
   "codemirror_mode": {
    "name": "ipython",
    "version": 3
   },
   "file_extension": ".py",
   "mimetype": "text/x-python",
   "name": "python",
   "nbconvert_exporter": "python",
   "pygments_lexer": "ipython3",
   "version": "3.11.3"
  },
  "orig_nbformat": 4
 },
 "nbformat": 4,
 "nbformat_minor": 2
}
