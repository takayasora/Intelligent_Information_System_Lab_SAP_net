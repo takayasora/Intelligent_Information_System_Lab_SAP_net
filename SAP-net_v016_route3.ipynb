{
 "cells": [
  {
   "cell_type": "code",
   "execution_count": 1,
   "metadata": {},
   "outputs": [],
   "source": [
    "import pandas as pd\n",
    "\n",
    "def array4DataFrame(array):\n",
    "    # 配列に対して、扱いやすいデータフレーム形式（ヘッダー付き）に変換する\n",
    "    # 行番号を付与して各行の一番目に追加\n",
    "    for i, row in enumerate(array, start=1):\n",
    "        row[0] = f\"{row[0]}_{i}\"\n",
    "\n",
    "    # Columnの一行目を取得し、ヘッダーとして再利用する\n",
    "    header_list = [\"name\"]\n",
    "    for i in range(len(array)):\n",
    "        header_list.append(array[i][0])\n",
    "    df = pd.DataFrame(array, columns=header_list)\n",
    "    \n",
    "    return df\n",
    "\n",
    "\n",
    "data = [[\"knowledge\", 0, 0.1, 0, 0.4, 0, 0.3, 0.5],\n",
    "            [\"knowledge\", 0.1, 0, 0.4, 0, 0.6, 0, 0],\n",
    "            [\"knowledge\", 0, 0.4, 0, 0.2, 0, 0, 0.7],\n",
    "            [\"knowledge\", 0.4, 0, 0.2, 0, 0.1, 0, 0],\n",
    "            [\"knowledge\", 0, 0.6, 0, 0.1, 0, 0.4, 0.2],\n",
    "            [\"knowledge\", 0.3, 0, 0, 0, 0.4, 0, 0.6],\n",
    "            [\"knowledge\", 0.5, 0, 0.7, 0, 0.2, 0.6, 0]]\n",
    "\n",
    "df = array4DataFrame(data)\n",
    "\n",
    "# 拡散する先をソートして返します。\n",
    "def next_diffusion_pair(df,stimulus):\n",
    "    diffusion_list = []\n",
    "    column = df.iloc[:, stimulus]\n",
    "    for i in range(len(column)):\n",
    "        distance_value = column[i]\n",
    "        if distance_value > 0.0:\n",
    "            diffusion_list.append([distance_value,stimulus,i+1])\n",
    "            # 配列を一番前の少数を基準にソート\n",
    "            sorted_diffusion_list = sorted(diffusion_list, key=lambda x: x[0])\n",
    "            #print(sorted_diffusion_list)\n",
    "            # 今回の拡散が行われるリスト\n",
    "            pair_list = [sublist[1:] for sublist in sorted_diffusion_list]\n",
    "            #print(pair_list)\n",
    "            # 次のパス一覧を返却\n",
    "            path_list = [sublist[1:] for sublist in pair_list]\n",
    "            next_list = [[sublist[0] for sublist in path_list]]\n",
    "    return pair_list\n",
    "\n",
    "def already_pair_remove(pair_list,already_list):\n",
    "    return_list = []\n",
    "    for pair_temp in pair_list:\n",
    "        if pair_temp not in already_list:\n",
    "            return_list.append(pair_temp)\n",
    "            already_list.append(pair_temp)\n",
    "            reversed_par = pair_temp[::-1]\n",
    "            already_list.append(reversed_par)\n",
    "        else:\n",
    "            None\n",
    "    return return_list,already_list"
   ]
  },
  {
   "cell_type": "code",
   "execution_count": 13,
   "metadata": {},
   "outputs": [
    {
     "name": "stdout",
     "output_type": "stream",
     "text": [
      "check [[1, 2], [1, 6], [1, 4], [1, 7]]\n",
      "check [[2, 3], [2, 5]]\n",
      "check [[6, 5], [6, 7]]\n",
      "check [[4, 5], [4, 3]]\n",
      "check [[7, 5], [7, 3]]\n",
      "check []\n",
      "check []\n",
      "check []\n",
      "check []\n",
      "check []\n",
      "check []\n",
      "check []\n",
      "check []\n"
     ]
    }
   ],
   "source": [
    "already_list=[]\n",
    "temp_list = [1]\n",
    "#print(\"temp\",temp_list)\n",
    "while len(temp_list)!=0:\n",
    "    #print(i)\n",
    "    now_list = temp_list\n",
    "    temp_list = []\n",
    "    for item in range(len(now_list)):\n",
    "        #print(\"item\",now_list[item])\n",
    "        pair_list = next_diffusion_pair(df,now_list[item])\n",
    "        #print(\"pair\",pair_list)\n",
    "        check_pair_list,already_list = already_pair_remove(pair_list,already_list)\n",
    "        #print(\"al\",already_list)\n",
    "        #print(\"check\",check_pair_list)\n",
    "        path_list = [sublist[1:] for sublist in check_pair_list]\n",
    "        next_list = [sublist[0] for sublist in path_list]\n",
    "        #print(\"next\",next_list)\n",
    "        temp_list.extend(next_list)\n",
    "        print(\"check\",check_pair_list)\n",
    "    #print(\"temp\",temp_list)"
   ]
  }
 ],
 "metadata": {
  "kernelspec": {
   "display_name": "Python 3",
   "language": "python",
   "name": "python3"
  },
  "language_info": {
   "codemirror_mode": {
    "name": "ipython",
    "version": 3
   },
   "file_extension": ".py",
   "mimetype": "text/x-python",
   "name": "python",
   "nbconvert_exporter": "python",
   "pygments_lexer": "ipython3",
   "version": "3.11.4"
  }
 },
 "nbformat": 4,
 "nbformat_minor": 2
}
