{
 "cells": [
  {
   "cell_type": "markdown",
   "metadata": {},
   "source": [
    "活性値の計算に必要な関数は揃ったため、活性化拡散を実装していく"
   ]
  },
  {
   "cell_type": "code",
   "execution_count": 22,
   "metadata": {},
   "outputs": [],
   "source": [
    "import sqlite3\n",
    "import pandas as pd\n",
    "import networkx as nx\n",
    "import matplotlib.pyplot as plt\n",
    "import math"
   ]
  },
  {
   "cell_type": "markdown",
   "metadata": {},
   "source": [
    "関数"
   ]
  },
  {
   "cell_type": "code",
   "execution_count": 30,
   "metadata": {},
   "outputs": [],
   "source": [
    "def NetworkX(df):\n",
    "    G = nx.DiGraph()\n",
    "\n",
    "    # ノードを追加\n",
    "    nodes = df.columns\n",
    "    for node in nodes:\n",
    "        G.add_node(node)\n",
    "\n",
    "    # エッジを追加\n",
    "    for i in range(len(nodes)):\n",
    "        for j in range(len(nodes)):\n",
    "            distance = df.iloc[i, j]\n",
    "            if i != j:  # iとjが同じでない場合のみエッジを追加\n",
    "                if distance != 0.0:\n",
    "                    G.add_edge(nodes[i], nodes[j], weight=distance)\n",
    "            else:\n",
    "                node_size = distance*1000  # iとjが同じ場合、ノードの大きさを設定\n",
    "                G.nodes[nodes[i]]['size'] = node_size\n",
    "                #閾値の視認性を高める\n",
    "                threshold = 3.0\n",
    "                print(distance,threshold,distance>threshold)\n",
    "                if(distance>threshold):\n",
    "                    node_color = 'red'  # ノードの色を赤に設定\n",
    "                    G.nodes[nodes[i]]['color'] = node_color\n",
    "                    \n",
    "    # ネットワーク図を描画\n",
    "    pos = nx.spring_layout(G)  # レイアウトを設定\n",
    "    edge_labels = {(u, v): str(d['weight']) for u, v, d in G.edges(data=True)}\n",
    "    \n",
    "    node_sizes = [G.nodes[node].get('size', 500) for node in G.nodes]\n",
    "    node_colors = [G.nodes[node].get('color', 'skyblue') for node in G.nodes]\n",
    "    nx.draw(G, pos, with_labels=True, node_size=node_sizes, node_color=node_colors, font_size=10, font_color='black', arrowsize=20)\n",
    "    nx.draw_networkx_edge_labels(G, pos, edge_labels=edge_labels)  # エッジのラベルを表示\n",
    "    plt.title(\"Network Graph\")\n",
    "    plt.show()\n",
    "\n",
    "def DataFrameSelector(df,select_number):    # 指定の行数を取得\n",
    "    select_number = select_number-1  # 例として1を指定\n",
    "    selected_row = df.iloc[select_number][select_number]\n",
    "    selected_list = selected_row.tolist()\n",
    "    return selected_list\n",
    "\n",
    "def SQL_SetUp(database_path):\n",
    "    conn = sqlite3.connect(database_path)\n",
    "    cursor = conn.cursor()\n",
    "\n",
    "    # データベースファイルが存在する場合は処理を終了\n",
    "    cursor.execute(\"SELECT name FROM sqlite_master WHERE type='table'\")\n",
    "    existing_tables = cursor.fetchall()\n",
    "    if existing_tables:\n",
    "        print(\"Database already exists. Exiting setup.\")\n",
    "        conn.close()\n",
    "        return\n",
    "\n",
    "    # テーブルを作成\n",
    "    cursor.execute('''\n",
    "        CREATE TABLE knowledge (\n",
    "            id INTEGER PRIMARY KEY AUTOINCREMENT,\n",
    "            data TEXT,\n",
    "            Adata FLOAT,\n",
    "            Bdata FLOAT,\n",
    "            Cdata FLOAT,\n",
    "            Ddata FLOAT,\n",
    "            Edata FLOAT,\n",
    "            Fdata FLOAT\n",
    "        )\n",
    "    ''')\n",
    "\n",
    "    # 配列の定義   \n",
    "    data = [[\"Adata\",1, 0.2, 0.2, 0, 0, 0],\n",
    "            [\"Bdata\",0.2, 2, 0.1, 0.4, 0.4, 0],\n",
    "            [\"Cdata\",0.2, 0.1, 3, 0, 0, 0.6],\n",
    "            [\"Ddata\",0, 0.4, 0, 4, 0, 0],\n",
    "            [\"Edata\",0, 0.4, 0, 0, 5, 0],\n",
    "            [\"Fdata\",0, 0, 0.6, 0, 0, 6]]\n",
    "    \n",
    "    # データを挿入\n",
    "    cursor.executemany(\"INSERT INTO knowledge (data, Adata, Bdata, Cdata, Ddata, Edata, Fdata) VALUES (?, ?, ?, ?, ?, ?, ?)\", data)\n",
    "\n",
    "    conn.commit()\n",
    "    conn.close()\n",
    "\n",
    "\n",
    "def SQL_GetData(database_path):\n",
    "    conn = sqlite3.connect(database_path)\n",
    "    cursor = conn.cursor()\n",
    "\n",
    "    # データを取得してDataFrameに格納\n",
    "    cursor.execute(\"SELECT * FROM knowledge\")\n",
    "    rows = cursor.fetchall()\n",
    "    columns = [description[0] for description in cursor.description]\n",
    "    df = pd.DataFrame(rows, columns=columns)\n",
    "\n",
    "    conn.close()\n",
    "\n",
    "    # \"data\"列をデータフレームのインデックスに設定\n",
    "    df.set_index(\"data\", inplace=True)\n",
    "    # 不要な\"id\"列を削除\n",
    "    df.drop(\"id\", axis=1, inplace=True)\n",
    "\n",
    "    return df\n",
    "\n",
    "def path_num_calc(df, stimulus_number):\n",
    "    row_number = stimulus_number - 1  # 行番号を調整（0ベースの行番号に変換）\n",
    "    selected_row = df.iloc[row_number]\n",
    "    count_positive = 0  # 0以上の値のカウントを初期化\n",
    "    for value in selected_row:\n",
    "        if value > 0 and value!=stimulus_number:\n",
    "            count_positive += 1  # 0以上の値があればカウントを増やす\n",
    "    return count_positive\n",
    "\n",
    "def stimulus_value_get(df, stimulus_number):\n",
    "    row_number = stimulus_number - 1  # 行番号を調整（0ベースの行番号に変換）\n",
    "    selected_row = df.iloc[row_number]\n",
    "    add_value = 1\n",
    "    for i in selected_row:\n",
    "        selected_list = selected_row.tolist()\n",
    "    \n",
    "    hold_list_value = selected_list[row_number]#保持している活性値\n",
    "    #selected_list_value += add_value\n",
    "    return hold_list_value\n",
    "\n",
    "def path_weight_calc(df, stimulus_number,receive_number):\n",
    "    row_number = stimulus_number-1# 例として2を指定\n",
    "    column_number = receive_number-1\n",
    "    if stimulus_number != receive_number:\n",
    "        selected_value = df.iloc[row_number,column_number]\n",
    "        return selected_value\n",
    "    #for i in selected_row:\n",
    "       # selected_list = selected_row.tolist()\n",
    "    #return selected_list\n",
    "    \n",
    "def stimulus_value_calc(df, stimulus_number,receive_number):\n",
    "    N = path_num_calc(df,stimulus_number)\n",
    "    A = stimulus_value_get(df,stimulus_number)\n",
    "    w = path_weight_calc(df,stimulus_number,receive_number)\n",
    "    \n",
    "    after_stimulus_value = (1/N)*A*math.exp(-w)\n",
    "    \n",
    "    return after_stimulus_value"
   ]
  },
  {
   "cell_type": "code",
   "execution_count": 24,
   "metadata": {},
   "outputs": [
    {
     "name": "stdout",
     "output_type": "stream",
     "text": [
      "Database already exists. Exiting setup.\n"
     ]
    }
   ],
   "source": [
    "# データベースのセットアップ\n",
    "SQL_SetUp(\"database_v04_copy.sqlite\")\n",
    "\n",
    "# データの取得\n",
    "df = SQL_GetData(\"database_v04_copy.sqlite\")"
   ]
  },
  {
   "cell_type": "code",
   "execution_count": 25,
   "metadata": {},
   "outputs": [
    {
     "name": "stdout",
     "output_type": "stream",
     "text": [
      "       Adata  Bdata  Cdata  Ddata  Edata  Fdata\n",
      "data                                           \n",
      "Adata    1.0    0.2    0.2    0.0    0.0    0.0\n",
      "Bdata    0.2    3.0    0.1    0.4    0.4    0.0\n",
      "Cdata    0.2    0.1    5.0    0.0    0.0    0.6\n",
      "Ddata    0.0    0.4    0.0    7.0    0.0    0.0\n",
      "Edata    0.0    0.4    0.0    0.0    9.0    0.0\n",
      "Fdata    0.0    0.0    0.6    0.0    0.0   11.0\n",
      "1.0 3.0 False\n",
      "3.0 3.0 False\n",
      "5.0 3.0 True\n",
      "7.0 3.0 True\n",
      "9.0 3.0 True\n",
      "11.0 3.0 True\n"
     ]
    },
    {
     "data": {
      "image/png": "[encoded data removed]",
      "text/plain": [
       "<Figure size 640x480 with 1 Axes>"
      ]
     },
     "metadata": {},
     "output_type": "display_data"
    }
   ],
   "source": [
    "# データの表示\n",
    "print(df)\n",
    "\n",
    "# データの可視化\n",
    "NetworkX(df)"
   ]
  },
  {
   "cell_type": "markdown",
   "metadata": {},
   "source": [
    "パス数取得"
   ]
  },
  {
   "cell_type": "code",
   "execution_count": 26,
   "metadata": {},
   "outputs": [
    {
     "name": "stdout",
     "output_type": "stream",
     "text": [
      "5\n"
     ]
    }
   ],
   "source": [
    "stimulus_number = 2\n",
    "path_weight_num = path_num_calc(df, stimulus_number)\n",
    "print(path_weight_num)"
   ]
  },
  {
   "cell_type": "markdown",
   "metadata": {},
   "source": [
    "活性値の取得"
   ]
  },
  {
   "cell_type": "code",
   "execution_count": 31,
   "metadata": {},
   "outputs": [
    {
     "name": "stdout",
     "output_type": "stream",
     "text": [
      "3.0\n"
     ]
    }
   ],
   "source": [
    "stimulus_value = stimulus_value_get(df,stimulus_number)\n",
    "print(stimulus_value)"
   ]
  },
  {
   "cell_type": "markdown",
   "metadata": {},
   "source": [
    "パスの重みの取得"
   ]
  },
  {
   "cell_type": "code",
   "execution_count": 32,
   "metadata": {},
   "outputs": [
    {
     "name": "stdout",
     "output_type": "stream",
     "text": [
      "0.1\n"
     ]
    }
   ],
   "source": [
    "receive_number = 3\n",
    "path_weight = path_weight_calc(df,stimulus_number,receive_number)\n",
    "print(path_weight)"
   ]
  },
  {
   "cell_type": "markdown",
   "metadata": {},
   "source": [
    "活性値の計算"
   ]
  },
  {
   "cell_type": "code",
   "execution_count": 33,
   "metadata": {},
   "outputs": [
    {
     "name": "stdout",
     "output_type": "stream",
     "text": [
      "0.5429024508215758\n"
     ]
    }
   ],
   "source": [
    "v = stimulus_value_calc(df,stimulus_number,receive_number)\n",
    "print(v)"
   ]
  },
  {
   "cell_type": "code",
   "execution_count": null,
   "metadata": {},
   "outputs": [],
   "source": []
  }
 ],
 "metadata": {
  "kernelspec": {
   "display_name": "Python 3",
   "language": "python",
   "name": "python3"
  },
  "language_info": {
   "codemirror_mode": {
    "name": "ipython",
    "version": 3
   },
   "file_extension": ".py",
   "mimetype": "text/x-python",
   "name": "python",
   "nbconvert_exporter": "python",
   "pygments_lexer": "ipython3",
   "version": "3.11.3"
  }
 },
 "nbformat": 4,
 "nbformat_minor": 2
}
