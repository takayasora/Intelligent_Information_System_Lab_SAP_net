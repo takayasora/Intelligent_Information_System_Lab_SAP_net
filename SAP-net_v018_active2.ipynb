{
 "cells": [
  {
   "cell_type": "code",
   "execution_count": 11,
   "metadata": {},
   "outputs": [],
   "source": [
    "import pandas as pd\n",
    "import math\n",
    "\n",
    "def array4DataFrame(array):\n",
    "    # 配列に対して、扱いやすいデータフレーム形式（ヘッダー付き）に変換する\n",
    "    # 行番号を付与して各行の一番目に追加\n",
    "    for i, row in enumerate(array, start=1):\n",
    "        row[0] = f\"{row[0]}_{i}\"\n",
    "\n",
    "    # Columnの一行目を取得し、ヘッダーとして再利用する\n",
    "    header_list = [\"name\"]\n",
    "    for i in range(len(array)):\n",
    "        header_list.append(array[i][0])\n",
    "    df = pd.DataFrame(array, columns=header_list)\n",
    "    \n",
    "    return df\n",
    "\n",
    "\n",
    "data = [[\"knowledge\", 0, 0.1, 0, 0.4, 0, 0.3, 0.5],\n",
    "            [\"knowledge\", 0.1, 0, 0.4, 0, 0.6, 0, 0],\n",
    "            [\"knowledge\", 0, 0.4, 0, 0.2, 0, 0, 0.7],\n",
    "            [\"knowledge\", 0.4, 0, 0.2, 0, 0.1, 0, 0],\n",
    "            [\"knowledge\", 0, 0.6, 0, 0.1, 0, 0.4, 0.2],\n",
    "            [\"knowledge\", 0.3, 0, 0, 0, 0.4, 0, 0.6],\n",
    "            [\"knowledge\", 0.5, 0, 0.7, 0, 0.2, 0.6, 0]]\n",
    "\n",
    "df = array4DataFrame(data)\n",
    "\n",
    "# 拡散する先をソートして返します。\n",
    "def next_diffusion_pair(df,stimulus):#sapnetモジュール内で使用\n",
    "    diffusion_list = []\n",
    "    column = df.iloc[:, stimulus]\n",
    "    for i in range(len(column)):\n",
    "        distance_value = column[i]\n",
    "        if distance_value > 0.0:\n",
    "            diffusion_list.append([distance_value,stimulus,i+1])\n",
    "            # 配列を一番前の少数を基準にソート\n",
    "            sorted_diffusion_list = sorted(diffusion_list, key=lambda x: x[0])\n",
    "            #print(sorted_diffusion_list)\n",
    "            # 今回の拡散が行われるリスト\n",
    "            pair_list = [sublist[1:] for sublist in sorted_diffusion_list]\n",
    "            #print(pair_list)\n",
    "            # 次のパス一覧を返却\n",
    "            path_list = [sublist[1:] for sublist in pair_list]\n",
    "            next_list = [[sublist[0] for sublist in path_list]]\n",
    "    return pair_list\n",
    "\n",
    "def already_pair_remove(pair_list,already_list):#sapnetモジュール内で使用\n",
    "    return_list = []\n",
    "    for pair_temp in pair_list:\n",
    "        if pair_temp not in already_list:\n",
    "            return_list.append(pair_temp)\n",
    "            already_list.append(pair_temp)\n",
    "            reversed_par = pair_temp[::-1]\n",
    "            already_list.append(reversed_par)\n",
    "        else:\n",
    "            None\n",
    "    return return_list,already_list\n",
    "\n",
    "def path_num_calc(df, stimulus):\n",
    "    row_number = stimulus - 1  # 行番号を調整\n",
    "    selected_row = df.iloc[row_number]\n",
    "    count_positive = 0  # 0以上の値のカウントを初期化\n",
    "    stimulus = float(stimulus)  # stimulusを数値に変換\n",
    "    for value in selected_row[1:]:  # 最初の列（name列）を除いて値を処理\n",
    "        if value > 0 and value != stimulus:\n",
    "            count_positive += 1  # 0以上の値があればカウントを増やす\n",
    "    return count_positive\n",
    "\n",
    "def path_weight_calc(df, stimulus,receive):\n",
    "    row_number = stimulus-1# 例として2を指定\n",
    "    column_number = receive\n",
    "    if stimulus != receive:\n",
    "        weight = df.iloc[row_number,column_number]\n",
    "        return weight\n",
    "\n",
    "def stimulus_value_calc(path_quantity,path_weight):\n",
    "    first_add = 1\n",
    "    tmp_list =[]\n",
    "    for i in range(len(path_quantity)):\n",
    "        N = path_quantity[i]\n",
    "        w = path_weight[i]\n",
    "        v = 0\n",
    "        if i == 0:\n",
    "            A = first_add\n",
    "            v = (1/N)*A*math.exp(-w)\n",
    "            tmp_list.append(v)\n",
    "        else:\n",
    "            A = tmp_list[i-1]\n",
    "            v = (1/N)*A*math.exp(-w)\n",
    "            tmp_list.append(v)\n",
    "        \n",
    "    return tmp_list\n"
   ]
  },
  {
   "cell_type": "code",
   "execution_count": 12,
   "metadata": {},
   "outputs": [
    {
     "name": "stdout",
     "output_type": "stream",
     "text": [
      "          name  knowledge_1  knowledge_2  knowledge_3  knowledge_4   \n",
      "0  knowledge_1          0.0          0.1          0.0          0.4  \\\n",
      "1  knowledge_2          0.1          0.0          0.4          0.0   \n",
      "2  knowledge_3          0.0          0.4          0.0          0.2   \n",
      "3  knowledge_4          0.4          0.0          0.2          0.0   \n",
      "4  knowledge_5          0.0          0.6          0.0          0.1   \n",
      "5  knowledge_6          0.3          0.0          0.0          0.0   \n",
      "6  knowledge_7          0.5          0.0          0.7          0.0   \n",
      "\n",
      "   knowledge_5  knowledge_6  knowledge_7  \n",
      "0          0.0          0.3          0.5  \n",
      "1          0.6          0.0          0.0  \n",
      "2          0.0          0.0          0.7  \n",
      "3          0.1          0.0          0.0  \n",
      "4          0.0          0.4          0.2  \n",
      "5          0.4          0.0          0.6  \n",
      "6          0.2          0.6          0.0  \n"
     ]
    }
   ],
   "source": [
    "print(df)"
   ]
  },
  {
   "cell_type": "code",
   "execution_count": 13,
   "metadata": {},
   "outputs": [],
   "source": [
    "def sapnet(df,stimulus):\n",
    "    already_list=[]\n",
    "    temp_list = [stimulus]\n",
    "    path_num_list = []\n",
    "    path_weight_list = []\n",
    "    return_list = []\n",
    "    #print(\"temp\",temp_list)\n",
    "    while len(temp_list)!=0:\n",
    "        #print(i)\n",
    "        now_list = temp_list\n",
    "        temp_list = []\n",
    "        for item in range(len(now_list)):\n",
    "            #print(\"item\",now_list[item])\n",
    "            pair_list = next_diffusion_pair(df,now_list[item])\n",
    "            #print(\"pair\",pair_list)\n",
    "            check_pair_list,already_list = already_pair_remove(pair_list,already_list)\n",
    "            #print(\"al\",already_list)\n",
    "            #print(\"check\",check_pair_list)\n",
    "            path_list = [sublist[1:] for sublist in check_pair_list]\n",
    "            next_list = [sublist[0] for sublist in path_list]\n",
    "            #print(\"next\",next_list)\n",
    "            temp_list.extend(next_list)\n",
    "            #print(\"check\",check_pair_list)\n",
    "            for active_pair in check_pair_list:\n",
    "                print(active_pair)\n",
    "                return_list.append(active_pair)\n",
    "                offer_num,receive_num = active_pair[0],active_pair[1]\n",
    "                N = path_num_calc(df,offer_num)\n",
    "                path_num_list.append(N)\n",
    "                #print(N)\n",
    "                w = path_weight_calc(df,offer_num,receive_num)\n",
    "                path_weight_list.append(w)\n",
    "                #print(w)\n",
    "                \n",
    "    stimulus_value_list = stimulus_value_calc(path_num_list,path_weight_list)\n",
    "    print(stimulus_value_list)            \n",
    "                \n",
    "                \n",
    "    #print(\"temp\",temp_list)\n",
    "    #print(return_list)\n",
    "    return stimulus_value_list,return_list"
   ]
  },
  {
   "cell_type": "code",
   "execution_count": 14,
   "metadata": {},
   "outputs": [
    {
     "name": "stdout",
     "output_type": "stream",
     "text": [
      "[1, 2]\n",
      "[1, 6]\n",
      "[1, 4]\n",
      "[1, 7]\n",
      "[2, 3]\n",
      "[2, 5]\n",
      "[6, 5]\n",
      "[6, 7]\n",
      "[4, 5]\n",
      "[4, 3]\n",
      "[7, 5]\n",
      "[7, 3]\n",
      "[0.22620935450898988, 0.04189500287722745, 0.007020765064331587, 0.0010645773165391117, 0.0002378691719436649, 4.351512314357801e-05, 9.72301978294991e-06, 1.7787021316184418e-06, 5.364787480762294e-07, 1.4641054980759473e-07, 2.996770492563335e-08, 3.720380463606739e-09]\n"
     ]
    }
   ],
   "source": [
    "stimulus = 1\n",
    "#sapnet(df,stimulus)\n",
    "stimulus_value,path_locus = sapnet(df,stimulus)"
   ]
  },
  {
   "cell_type": "code",
   "execution_count": 15,
   "metadata": {},
   "outputs": [],
   "source": [
    "def update_df(df,stimulus_value,path_locus,stimulus):\n",
    "    df.iloc[stimulus-1,stimulus] += 1\n",
    "    for i in (path_locus):\n",
    "        row_index = i[1]-1\n",
    "        column_index = i[1]\n",
    "        df.iloc[row_index, column_index] += stimulus_value[row_index]"
   ]
  },
  {
   "cell_type": "code",
   "execution_count": 16,
   "metadata": {},
   "outputs": [],
   "source": [
    "update_df(df,stimulus_value,path_locus,stimulus)"
   ]
  },
  {
   "cell_type": "code",
   "execution_count": 17,
   "metadata": {},
   "outputs": [
    {
     "name": "stdout",
     "output_type": "stream",
     "text": [
      "          name  knowledge_1  knowledge_2  knowledge_3  knowledge_4   \n",
      "0  knowledge_1          1.0     0.100000     0.000000     0.400000  \\\n",
      "1  knowledge_2          0.1     0.041895     0.400000     0.000000   \n",
      "2  knowledge_3          0.0     0.400000     0.021062     0.200000   \n",
      "3  knowledge_4          0.4     0.000000     0.200000     0.001065   \n",
      "4  knowledge_5          0.0     0.600000     0.000000     0.100000   \n",
      "5  knowledge_6          0.3     0.000000     0.000000     0.000000   \n",
      "6  knowledge_7          0.5     0.000000     0.700000     0.000000   \n",
      "\n",
      "   knowledge_5  knowledge_6  knowledge_7  \n",
      "0     0.000000     0.300000     0.500000  \n",
      "1     0.600000     0.000000     0.000000  \n",
      "2     0.000000     0.000000     0.700000  \n",
      "3     0.100000     0.000000     0.000000  \n",
      "4     0.000951     0.400000     0.200000  \n",
      "5     0.400000     0.000044     0.600000  \n",
      "6     0.200000     0.600000     0.000019  \n"
     ]
    }
   ],
   "source": [
    "print(df)"
   ]
  },
  {
   "cell_type": "code",
   "execution_count": null,
   "metadata": {},
   "outputs": [],
   "source": []
  }
 ],
 "metadata": {
  "kernelspec": {
   "display_name": "Python 3",
   "language": "python",
   "name": "python3"
  },
  "language_info": {
   "codemirror_mode": {
    "name": "ipython",
    "version": 3
   },
   "file_extension": ".py",
   "mimetype": "text/x-python",
   "name": "python",
   "nbconvert_exporter": "python",
   "pygments_lexer": "ipython3",
   "version": "3.11.3"
  }
 },
 "nbformat": 4,
 "nbformat_minor": 2
}
