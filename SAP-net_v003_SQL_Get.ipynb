{
 "cells": [
  {
   "cell_type": "markdown",
   "metadata": {},
   "source": [
    "ネットワーク図の値を保持する必要があるため、SQLiteを介しての値を保持・出力・更新などのテストを行う\n",
    "今回のプログラムでは、値の取得を行っている。"
   ]
  },
  {
   "cell_type": "code",
   "execution_count": 7,
   "metadata": {},
   "outputs": [],
   "source": [
    "import sqlite3\n",
    "import pandas as pd"
   ]
  },
  {
   "cell_type": "code",
   "execution_count": 1,
   "metadata": {},
   "outputs": [],
   "source": [
    "def SQL_GetData(database_path):\n",
    "    conn = sqlite3.connect(database_path)\n",
    "    cursor = conn.cursor()\n",
    "\n",
    "    # データを取得してDataFrameに格納\n",
    "    cursor.execute(\"SELECT * FROM knowledge\")\n",
    "    rows = cursor.fetchall()\n",
    "    columns = [description[0] for description in cursor.description]\n",
    "    df = pd.DataFrame(rows, columns=columns)\n",
    "\n",
    "    conn.close()\n",
    "\n",
    "    return df"
   ]
  },
  {
   "cell_type": "code",
   "execution_count": 8,
   "metadata": {},
   "outputs": [
    {
     "name": "stdout",
     "output_type": "stream",
     "text": [
      "   id   data  Adata  Bdata  Cdata  Ddata  Edata  Fdata\n",
      "0   1  Adata      0      1      1      0      0      0\n",
      "1   2  Bdata      1      0      1      1      1      0\n",
      "2   3  Cdata      1      1      0      0      0      1\n",
      "3   4  Ddata      0      1      0      0      0      0\n",
      "4   5  Edata      0      1      0      0      0      0\n",
      "5   6  Fdata      0      0      1      0      0      0\n"
     ]
    }
   ],
   "source": [
    "# データの取得と表示\n",
    "df = SQL_GetData(\"database.sqlite\")\n",
    "print(df)"
   ]
  },
  {
   "cell_type": "code",
   "execution_count": 9,
   "metadata": {},
   "outputs": [
    {
     "name": "stdout",
     "output_type": "stream",
     "text": [
      "       Adata  Bdata  Cdata  Ddata  Edata  Fdata\n",
      "data                                           \n",
      "Adata      0      1      1      0      0      0\n",
      "Bdata      1      0      1      1      1      0\n",
      "Cdata      1      1      0      0      0      1\n",
      "Ddata      0      1      0      0      0      0\n",
      "Edata      0      1      0      0      0      0\n",
      "Fdata      0      0      1      0      0      0\n"
     ]
    }
   ],
   "source": [
    "# \"data\"列をデータフレームのインデックスに設定\n",
    "df.set_index(\"data\", inplace=True)\n",
    "\n",
    "# 不要な\"id\"列を削除\n",
    "df.drop(\"id\", axis=1, inplace=True)\n",
    "\n",
    "# データフレームの表示\n",
    "print(df)\n"
   ]
  },
  {
   "cell_type": "code",
   "execution_count": 10,
   "metadata": {},
   "outputs": [
    {
     "name": "stdout",
     "output_type": "stream",
     "text": [
      "1\n"
     ]
    }
   ],
   "source": [
    "# \"Adata\"列と\"Bdata\"行のセルの値を取得\n",
    "value = df.at[\"Bdata\", \"Adata\"]\n",
    "print(value)\n"
   ]
  },
  {
   "cell_type": "code",
   "execution_count": 16,
   "metadata": {},
   "outputs": [
    {
     "name": "stdout",
     "output_type": "stream",
     "text": [
      "C列の値は下記の通りである。\n",
      " data\n",
      "Adata    1\n",
      "Bdata    1\n",
      "Cdata    0\n",
      "Ddata    0\n",
      "Edata    0\n",
      "Fdata    1\n",
      "Name: Cdata, dtype: int64\n",
      "\n",
      "B行のデータは下記の通りである。\n",
      " Adata    1\n",
      "Bdata    0\n",
      "Cdata    1\n",
      "Ddata    1\n",
      "Edata    1\n",
      "Fdata    0\n",
      "Name: Bdata, dtype: int64\n"
     ]
    }
   ],
   "source": [
    "# \"Cdata\"列のデータを取得\n",
    "column_data = df[\"Cdata\"]\n",
    "print(\"C列の値は下記の通りである。\\n\",column_data)\n",
    "\n",
    "# \"Bdata\"行のデータを取得\n",
    "row_data = df.loc[\"Bdata\"]\n",
    "print(\"\\nB行のデータは下記の通りである。\\n\",row_data)"
   ]
  }
 ],
 "metadata": {
  "kernelspec": {
   "display_name": "Python 3",
   "language": "python",
   "name": "python3"
  },
  "language_info": {
   "codemirror_mode": {
    "name": "ipython",
    "version": 3
   },
   "file_extension": ".py",
   "mimetype": "text/x-python",
   "name": "python",
   "nbconvert_exporter": "python",
   "pygments_lexer": "ipython3",
   "version": "3.11.3"
  },
  "orig_nbformat": 4
 },
 "nbformat": 4,
 "nbformat_minor": 2
}
