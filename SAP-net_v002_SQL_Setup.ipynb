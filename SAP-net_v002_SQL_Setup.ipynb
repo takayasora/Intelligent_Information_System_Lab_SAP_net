{
 "cells": [
  {
   "cell_type": "markdown",
   "metadata": {},
   "source": [
    "ネットワーク図の値を保持する必要があるため、SQLiteを介しての値を保持・出力・更新などのテストを行う\n",
    "今回のプログラムでは、SQLに値の保存を行っている。"
   ]
  },
  {
   "cell_type": "code",
   "execution_count": null,
   "metadata": {},
   "outputs": [],
   "source": [
    "import sqlite3"
   ]
  },
  {
   "cell_type": "code",
   "execution_count": null,
   "metadata": {},
   "outputs": [],
   "source": [
    "def SQL_SetUp(database_path):\n",
    "    conn = sqlite3.connect(database_path)\n",
    "    cursor = conn.cursor()\n",
    "\n",
    "    # データベースファイルが存在する場合は処理を終了\n",
    "    cursor.execute(\"SELECT name FROM sqlite_master WHERE type='table'\")\n",
    "    existing_tables = cursor.fetchall()\n",
    "    if existing_tables:\n",
    "        print(\"Database already exists. Exiting setup.\")\n",
    "        conn.close()\n",
    "        return\n",
    "\n",
    "    # テーブルを作成\n",
    "    cursor.execute('''\n",
    "        CREATE TABLE knowledge (\n",
    "            id INTEGER PRIMARY KEY AUTOINCREMENT,\n",
    "            data TEXT,\n",
    "            Adata INTEGER,\n",
    "            Bdata INTEGER,\n",
    "            Cdata INTEGER,\n",
    "            Ddata INTEGER,\n",
    "            Edata INTEGER,\n",
    "            Fdata INTEGER\n",
    "        )\n",
    "    ''')\n",
    "\n",
    "    # 配列の定義   \n",
    "    data = [[\"Adata\",0, 1, 1, 0, 0, 0],\n",
    "            [\"Bdata\",1, 0, 1, 1, 1, 0],\n",
    "            [\"Cdata\",1, 1, 0, 0, 0, 1],\n",
    "            [\"Ddata\",0, 1, 0, 0, 0, 0],\n",
    "            [\"Edata\",0, 1, 0, 0, 0, 0],\n",
    "            [\"Fdata\",0, 0, 1, 0, 0, 0]]\n",
    "    \n",
    "    # データを挿入\n",
    "    cursor.executemany(\"INSERT INTO knowledge (data, Adata, Bdata, Cdata, Ddata, Edata, Fdata) VALUES (?, ?, ?, ?, ?, ?, ?)\", data)\n",
    "\n",
    "    conn.commit()\n",
    "    conn.close()\n"
   ]
  },
  {
   "cell_type": "code",
   "execution_count": null,
   "metadata": {},
   "outputs": [],
   "source": [
    "# データベースのセットアップ\n",
    "SQL_SetUp(\"database.sqlite\")"
   ]
  }
 ],
 "metadata": {
  "kernelspec": {
   "display_name": "Python 3",
   "language": "python",
   "name": "python3"
  },
  "language_info": {
   "codemirror_mode": {
    "name": "ipython",
    "version": 3
   },
   "file_extension": ".py",
   "mimetype": "text/x-python",
   "name": "python",
   "nbconvert_exporter": "python",
   "pygments_lexer": "ipython3",
   "version": "3.11.3"
  },
  "orig_nbformat": 4
 },
 "nbformat": 4,
 "nbformat_minor": 2
}
