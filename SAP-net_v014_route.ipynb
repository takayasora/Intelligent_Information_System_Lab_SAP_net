{
 "cells": [
  {
   "cell_type": "code",
   "execution_count": 19,
   "metadata": {},
   "outputs": [
    {
     "name": "stdout",
     "output_type": "stream",
     "text": [
      "          name  knowledge_1  knowledge_2  knowledge_3  knowledge_4   \n",
      "0  knowledge_1          0.0          0.2          0.2          0.0  \\\n",
      "1  knowledge_2          0.2          0.0          0.1          0.4   \n",
      "2  knowledge_3          0.2          0.1          0.0          0.0   \n",
      "3  knowledge_4          0.0          0.4          0.0          0.0   \n",
      "4  knowledge_5          0.0          0.4          0.0          0.0   \n",
      "5  knowledge_6          0.0          0.0          0.6          0.0   \n",
      "\n",
      "   knowledge_5  knowledge_6  \n",
      "0          0.0          0.0  \n",
      "1          0.4          0.0  \n",
      "2          0.0          0.6  \n",
      "3          0.0          0.0  \n",
      "4          0.0          0.0  \n",
      "5          0.0          0.0  \n"
     ]
    }
   ],
   "source": [
    "import pandas as pd\n",
    "\n",
    "data = [[\"knowledge_1\", 0, 0.2, 0.2, 0, 0, 0],\n",
    "        [\"knowledge_2\", 0.2, 0, 0.1, 0.4, 0.4, 0],\n",
    "        [\"knowledge_3\", 0.2, 0.1, 0, 0, 0, 0.6],\n",
    "        [\"knowledge_4\", 0, 0.4, 0, 0, 0, 0],\n",
    "        [\"knowledge_5\", 0, 0.4, 0, 0, 0, 0],\n",
    "        [\"knowledge_6\", 0, 0, 0.6, 0, 0, 0]]\n",
    "\n",
    "# Columnの一行目を取得し、ヘッダーとして再利用する\n",
    "header_list = [\"name\"]\n",
    "for i in range(len(data)):\n",
    "    header_list.append(data[i][0])\n",
    "df = pd.DataFrame(data, columns=header_list)\n",
    "\n",
    "# データフレームを表示\n",
    "print(df)"
   ]
  },
  {
   "cell_type": "code",
   "execution_count": 54,
   "metadata": {},
   "outputs": [
    {
     "name": "stdout",
     "output_type": "stream",
     "text": [
      "          name  knowledge_1  knowledge_2  knowledge_3  knowledge_4   \n",
      "0  knowledge_1          0.0          0.1          0.0          0.4  \\\n",
      "1  knowledge_2          0.1          0.0          0.4          0.0   \n",
      "2  knowledge_3          0.0          0.4          0.0          0.2   \n",
      "3  knowledge_4          0.4          0.0          0.2          0.0   \n",
      "4  knowledge_5          0.0          0.6          0.0          0.1   \n",
      "5  knowledge_6          0.3          0.0          0.0          0.0   \n",
      "6  knowledge_7          0.5          0.0          0.7          0.0   \n",
      "\n",
      "   knowledge_5  knowledge_6  knowledge_7  \n",
      "0          0.0          0.3          0.5  \n",
      "1          0.6          0.0          0.0  \n",
      "2          0.0          0.0          0.7  \n",
      "3          0.1          0.0          0.0  \n",
      "4          0.0          0.4          0.2  \n",
      "5          0.4          0.0          0.6  \n",
      "6          0.2          0.6          0.0  \n",
      "セル(1, 1): 0.0\n",
      "セル(2, 1): 0.1\n",
      "セル(3, 1): 0.0\n",
      "セル(4, 1): 0.4\n",
      "セル(5, 1): 0.0\n",
      "セル(6, 1): 0.3\n",
      "セル(7, 1): 0.5\n",
      "セル(1, 2): 0.1\n",
      "セル(2, 2): 0.0\n",
      "セル(3, 2): 0.4\n",
      "セル(4, 2): 0.0\n",
      "セル(5, 2): 0.6\n",
      "セル(6, 2): 0.0\n",
      "セル(7, 2): 0.0\n",
      "セル(1, 3): 0.0\n",
      "セル(2, 3): 0.4\n",
      "セル(3, 3): 0.0\n",
      "セル(4, 3): 0.2\n",
      "セル(5, 3): 0.0\n",
      "セル(6, 3): 0.0\n",
      "セル(7, 3): 0.7\n",
      "セル(1, 4): 0.4\n",
      "セル(2, 4): 0.0\n",
      "セル(3, 4): 0.2\n",
      "セル(4, 4): 0.0\n",
      "セル(5, 4): 0.1\n",
      "セル(6, 4): 0.0\n",
      "セル(7, 4): 0.0\n",
      "セル(1, 5): 0.0\n",
      "セル(2, 5): 0.6\n",
      "セル(3, 5): 0.0\n",
      "セル(4, 5): 0.1\n",
      "セル(5, 5): 0.0\n",
      "セル(6, 5): 0.4\n",
      "セル(7, 5): 0.2\n",
      "セル(1, 6): 0.3\n",
      "セル(2, 6): 0.0\n",
      "セル(3, 6): 0.0\n",
      "セル(4, 6): 0.0\n",
      "セル(5, 6): 0.4\n",
      "セル(6, 6): 0.0\n",
      "セル(7, 6): 0.6\n",
      "セル(1, 7): 0.5\n",
      "セル(2, 7): 0.0\n",
      "セル(3, 7): 0.7\n",
      "セル(4, 7): 0.0\n",
      "セル(5, 7): 0.2\n",
      "セル(6, 7): 0.6\n",
      "セル(7, 7): 0.0\n"
     ]
    }
   ],
   "source": [
    "import pandas as pd\n",
    "\n",
    "data = [[\"knowledge_1\", 0, 0.1, 0, 0.4, 0, 0.3, 0.5],\n",
    "            [\"knowledge_2\", 0.1, 0, 0.4, 0, 0.6, 0, 0],\n",
    "            [\"knowledge_3\", 0, 0.4, 0, 0.2, 0, 0, 0.7],\n",
    "            [\"knowledge_4\", 0.4, 0, 0.2, 0, 0.1, 0, 0],\n",
    "            [\"knowledge_5\", 0, 0.6, 0, 0.1, 0, 0.4, 0.2],\n",
    "            [\"knowledge_6\", 0.3, 0, 0, 0, 0.4, 0, 0.6],\n",
    "            [\"knowledge_7\", 0.5, 0, 0.7, 0, 0.2, 0.6, 0]]\n",
    "\n",
    "# Columnの一行目を取得し、ヘッダーとして再利用する\n",
    "header_list = [\"name\"]\n",
    "for i in range(len(data)):\n",
    "    header_list.append(data[i][0])\n",
    "df = pd.DataFrame(data, columns=header_list)\n",
    "\n",
    "# データフレームを表示\n",
    "print(df)\n",
    "\n",
    "# データフレームの列数分forループを回す\n",
    "for column in df.columns[1:]:\n",
    "    c_name = column[-1]\n",
    "    for index, row in df.iterrows():\n",
    "        r_name = row[\"name\"][-1]\n",
    "        value = row[column]\n",
    "        print(f\"セル({r_name}, {c_name}): {value}\")"
   ]
  },
  {
   "cell_type": "code",
   "execution_count": 17,
   "metadata": {},
   "outputs": [
    {
     "name": "stdout",
     "output_type": "stream",
     "text": [
      "セル(2, 1): 0.2\n",
      "セル(3, 1): 0.2\n",
      "セル(1, 2): 0.2\n",
      "セル(3, 2): 0.1\n",
      "セル(4, 2): 0.4\n",
      "セル(5, 2): 0.4\n",
      "セル(1, 3): 0.2\n",
      "セル(2, 3): 0.1\n",
      "セル(6, 3): 0.6\n",
      "セル(2, 4): 0.4\n",
      "セル(2, 5): 0.4\n",
      "セル(3, 6): 0.6\n"
     ]
    }
   ],
   "source": [
    "# つながっている場所を全部表示する\n",
    "for column in df.columns[1:]:\n",
    "    c_name = column[-1]\n",
    "    count_connect = 0\n",
    "    for index, row in df.iterrows():\n",
    "        r_name = row[\"name\"][-1]\n",
    "        value = row[column]\n",
    "        if value > 0:\n",
    "            print(f\"セル({r_name}, {c_name}): {value}\")"
   ]
  },
  {
   "cell_type": "code",
   "execution_count": 62,
   "metadata": {},
   "outputs": [
    {
     "name": "stdout",
     "output_type": "stream",
     "text": [
      "1 2\n",
      "1 6\n",
      "1 4\n",
      "1 7\n",
      "2 3\n",
      "2 5\n",
      "3 4\n",
      "3 7\n",
      "4 5\n",
      "5 7\n",
      "5 6\n",
      "6 7\n"
     ]
    }
   ],
   "source": [
    "# つながっている場所を全部表示する\n",
    "already_path_sort=[]\n",
    "already_path=[]\n",
    "for column in df.columns[1:]:\n",
    "    c_name = column[-1]\n",
    "    count_connect = 0\n",
    "    already_path_gathering=[]\n",
    "    for index, row in df.iterrows():\n",
    "        r_name = row[\"name\"][-1]\n",
    "        distance_value = row[column]\n",
    "        #print(f\"セル({r_name}, {c_name}): {value}\")\n",
    "        if distance_value > 0.0:\n",
    "            if r_name < c_name:\n",
    "                path_number = [r_name,c_name]\n",
    "            else:\n",
    "                path_number = [c_name,r_name]\n",
    "            #print(path_number,end=\",\")\n",
    "            if any([pair == path_number for pair in already_path_sort]):\n",
    "                None\n",
    "            else:\n",
    "                # ここで活性化\n",
    "                #print(path_number)\n",
    "                already_path_sort.append(path_number)\n",
    "                already_path.append([c_name,r_name])\n",
    "                already_path_gathering.append([distance_value,c_name,r_name])\n",
    "                #print(f\"セル({r_name}, {c_name}): {value}\")\n",
    "                # 活性化の優先順位\n",
    "    #for i in already_path_gathering:\n",
    "    sorted_already_path_gathering = sorted(already_path_gathering,key=lambda x: x[0])\n",
    "    #print(sorted_already_path_gathering)\n",
    "    for path in sorted_already_path_gathering:\n",
    "        print(path[1],path[2])\n",
    "\n",
    "#print(already_path)\n",
    "#print(already_path_sort)\n"
   ]
  },
  {
   "cell_type": "code",
   "execution_count": null,
   "metadata": {},
   "outputs": [],
   "source": [
    "def getting_next(df,stimulus):\n"
   ]
  }
 ],
 "metadata": {
  "kernelspec": {
   "display_name": "Python 3",
   "language": "python",
   "name": "python3"
  },
  "language_info": {
   "codemirror_mode": {
    "name": "ipython",
    "version": 3
   },
   "file_extension": ".py",
   "mimetype": "text/x-python",
   "name": "python",
   "nbconvert_exporter": "python",
   "pygments_lexer": "ipython3",
   "version": "3.11.3"
  }
 },
 "nbformat": 4,
 "nbformat_minor": 2
}
